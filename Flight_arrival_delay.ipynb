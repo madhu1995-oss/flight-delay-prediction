{
 "cells": [
  {
   "cell_type": "code",
   "execution_count": 1,
   "metadata": {},
   "outputs": [],
   "source": [
    "import numpy as np\n",
    "import pandas as pd\n",
    "import torch\n",
    "from torch import nn,optim\n",
    "import torch.nn.functional as F\n",
    "import datetime\n",
    "from torch.utils import data\n",
    "from random import sample,seed,shuffle\n"
   ]
  },
  {
   "cell_type": "code",
   "execution_count": 2,
   "metadata": {},
   "outputs": [],
   "source": [
    "flights = pd.read_csv(\"./lessThan1.csv\",low_memory=False)\n",
    "airlines = pd.read_csv(\"./data/airlines.csv\")\n",
    "airports = pd.read_csv(\"./data/airports.csv\")"
   ]
  },
  {
   "cell_type": "code",
   "execution_count": 3,
   "metadata": {},
   "outputs": [
    {
     "data": {
      "text/html": [
       "<div>\n",
       "<style scoped>\n",
       "    .dataframe tbody tr th:only-of-type {\n",
       "        vertical-align: middle;\n",
       "    }\n",
       "\n",
       "    .dataframe tbody tr th {\n",
       "        vertical-align: top;\n",
       "    }\n",
       "\n",
       "    .dataframe thead th {\n",
       "        text-align: right;\n",
       "    }\n",
       "</style>\n",
       "<table border=\"1\" class=\"dataframe\">\n",
       "  <thead>\n",
       "    <tr style=\"text-align: right;\">\n",
       "      <th></th>\n",
       "      <th>index</th>\n",
       "      <th>AIRLINE</th>\n",
       "      <th>TAIL_NUMBER</th>\n",
       "      <th>ORIGIN_AIRPORT_V</th>\n",
       "      <th>DESTINATION__AIRPORT_V</th>\n",
       "      <th>ARRIVAL_DELAY</th>\n",
       "      <th>DEPARTURE_DELAY</th>\n",
       "      <th>DAY</th>\n",
       "      <th>MONTH</th>\n",
       "      <th>SCHEDULED_ARRIVAL</th>\n",
       "    </tr>\n",
       "  </thead>\n",
       "  <tbody>\n",
       "    <tr>\n",
       "      <th>0</th>\n",
       "      <td>0</td>\n",
       "      <td>7</td>\n",
       "      <td>0</td>\n",
       "      <td>0</td>\n",
       "      <td>23</td>\n",
       "      <td>25</td>\n",
       "      <td>12</td>\n",
       "      <td>[1, 0, 0, 0, 0, 0, 0, 0, 0, 0, 0, 0, 0, 0, 0, ...</td>\n",
       "      <td>[1, 0, 0, 0, 0, 0, 0, 0, 0, 0, 0, 0]</td>\n",
       "      <td>542</td>\n",
       "    </tr>\n",
       "    <tr>\n",
       "      <th>1</th>\n",
       "      <td>1</td>\n",
       "      <td>7</td>\n",
       "      <td>1</td>\n",
       "      <td>1</td>\n",
       "      <td>15</td>\n",
       "      <td>43</td>\n",
       "      <td>72</td>\n",
       "      <td>[1, 0, 0, 0, 0, 0, 0, 0, 0, 0, 0, 0, 0, 0, 0, ...</td>\n",
       "      <td>[1, 0, 0, 0, 0, 0, 0, 0, 0, 0, 0, 0]</td>\n",
       "      <td>549</td>\n",
       "    </tr>\n",
       "    <tr>\n",
       "      <th>2</th>\n",
       "      <td>2</td>\n",
       "      <td>11</td>\n",
       "      <td>2</td>\n",
       "      <td>2</td>\n",
       "      <td>51</td>\n",
       "      <td>15</td>\n",
       "      <td>0</td>\n",
       "      <td>[1, 0, 0, 0, 0, 0, 0, 0, 0, 0, 0, 0, 0, 0, 0, ...</td>\n",
       "      <td>[1, 0, 0, 0, 0, 0, 0, 0, 0, 0, 0, 0]</td>\n",
       "      <td>555</td>\n",
       "    </tr>\n",
       "    <tr>\n",
       "      <th>3</th>\n",
       "      <td>3</td>\n",
       "      <td>4</td>\n",
       "      <td>3</td>\n",
       "      <td>3</td>\n",
       "      <td>42</td>\n",
       "      <td>20</td>\n",
       "      <td>-3</td>\n",
       "      <td>[1, 0, 0, 0, 0, 0, 0, 0, 0, 0, 0, 0, 0, 0, 0, ...</td>\n",
       "      <td>[1, 0, 0, 0, 0, 0, 0, 0, 0, 0, 0, 0]</td>\n",
       "      <td>500</td>\n",
       "    </tr>\n",
       "    <tr>\n",
       "      <th>4</th>\n",
       "      <td>4</td>\n",
       "      <td>2</td>\n",
       "      <td>4</td>\n",
       "      <td>4</td>\n",
       "      <td>1</td>\n",
       "      <td>60</td>\n",
       "      <td>60</td>\n",
       "      <td>[1, 0, 0, 0, 0, 0, 0, 0, 0, 0, 0, 0, 0, 0, 0, ...</td>\n",
       "      <td>[1, 0, 0, 0, 0, 0, 0, 0, 0, 0, 0, 0]</td>\n",
       "      <td>850</td>\n",
       "    </tr>\n",
       "  </tbody>\n",
       "</table>\n",
       "</div>"
      ],
      "text/plain": [
       "   index  AIRLINE  TAIL_NUMBER  ORIGIN_AIRPORT_V  DESTINATION__AIRPORT_V  \\\n",
       "0      0        7            0                 0                      23   \n",
       "1      1        7            1                 1                      15   \n",
       "2      2       11            2                 2                      51   \n",
       "3      3        4            3                 3                      42   \n",
       "4      4        2            4                 4                       1   \n",
       "\n",
       "   ARRIVAL_DELAY  DEPARTURE_DELAY  \\\n",
       "0             25               12   \n",
       "1             43               72   \n",
       "2             15                0   \n",
       "3             20               -3   \n",
       "4             60               60   \n",
       "\n",
       "                                                 DAY  \\\n",
       "0  [1, 0, 0, 0, 0, 0, 0, 0, 0, 0, 0, 0, 0, 0, 0, ...   \n",
       "1  [1, 0, 0, 0, 0, 0, 0, 0, 0, 0, 0, 0, 0, 0, 0, ...   \n",
       "2  [1, 0, 0, 0, 0, 0, 0, 0, 0, 0, 0, 0, 0, 0, 0, ...   \n",
       "3  [1, 0, 0, 0, 0, 0, 0, 0, 0, 0, 0, 0, 0, 0, 0, ...   \n",
       "4  [1, 0, 0, 0, 0, 0, 0, 0, 0, 0, 0, 0, 0, 0, 0, ...   \n",
       "\n",
       "                                  MONTH  SCHEDULED_ARRIVAL  \n",
       "0  [1, 0, 0, 0, 0, 0, 0, 0, 0, 0, 0, 0]                542  \n",
       "1  [1, 0, 0, 0, 0, 0, 0, 0, 0, 0, 0, 0]                549  \n",
       "2  [1, 0, 0, 0, 0, 0, 0, 0, 0, 0, 0, 0]                555  \n",
       "3  [1, 0, 0, 0, 0, 0, 0, 0, 0, 0, 0, 0]                500  \n",
       "4  [1, 0, 0, 0, 0, 0, 0, 0, 0, 0, 0, 0]                850  "
      ]
     },
     "execution_count": 3,
     "metadata": {},
     "output_type": "execute_result"
    }
   ],
   "source": [
    "a = flights.ORIGIN_AIRPORT.unique()\n",
    "for i in flights.DESTINATION_AIRPORT.unique():\n",
    "    if i not in a:\n",
    "        a = np.append(a,i)\n",
    "airports = {ch:i for i,ch in enumerate(a)}\n",
    "airlines = {ch:i for i,ch in enumerate(airlines.IATA_CODE)}\n",
    "tail_nums = {ch:i for i,ch in enumerate(flights.TAIL_NUMBER.unique())}\n",
    "airports['10268'] =len(airports)\n",
    "\n",
    "def one_hot_encode(size,val):\n",
    "    a = np.zeros((size,),dtype=int)\n",
    "    a[(val-1)] = 1\n",
    "    return a\n",
    "flights['DATE'] = pd.to_datetime(flights[['YEAR','MONTH', 'DAY']])\n",
    "variables_to_remove = ['TAXI_OUT', 'TAXI_IN', 'WHEELS_ON', 'WHEELS_OFF', 'YEAR', \n",
    "                       'DATE', 'AIR_SYSTEM_DELAY',\n",
    "                       'SECURITY_DELAY', 'AIRLINE_DELAY', 'LATE_AIRCRAFT_DELAY',\n",
    "                       'WEATHER_DELAY', 'DIVERTED', 'CANCELLED', 'CANCELLATION_REASON',\n",
    "                       'FLIGHT_NUMBER', 'AIR_TIME']\n",
    "flights.drop(variables_to_remove, axis = 1, inplace = True)\n",
    "flights = flights[['AIRLINE','TAIL_NUMBER','DAY', 'ORIGIN_AIRPORT', 'DESTINATION_AIRPORT',\n",
    "        'SCHEDULED_DEPARTURE', 'DEPARTURE_TIME', 'DEPARTURE_DELAY',\n",
    "        'SCHEDULED_ARRIVAL', 'ARRIVAL_TIME', 'ARRIVAL_DELAY',\n",
    "        'SCHEDULED_TIME', 'ELAPSED_TIME','MONTH']]\n",
    "flights['AIRLINE'] = flights['AIRLINE'].apply(lambda x: airlines[x])\n",
    "flights['ORIGIN_AIRPORT_V'] = flights['ORIGIN_AIRPORT'].apply(lambda x: airports[x])\n",
    "flights['DESTINATION__AIRPORT_V'] = flights['DESTINATION_AIRPORT'].apply(lambda x: airports[x])\n",
    "flights['TAIL_NUMBER'] = flights['TAIL_NUMBER'].apply(lambda x: tail_nums[x])\n",
    "# flights['DAY_OF_WEEK'] = flights['DAY_OF_WEEK'].apply(lambda x: one_hot_encode(7,x))\n",
    "flights['DAY'] = flights['DAY'].apply(lambda x: one_hot_encode(31,x))\n",
    "flights['MONTH'] = flights['MONTH'].apply(lambda x: one_hot_encode(12,x))\n",
    "flights = flights[['AIRLINE','TAIL_NUMBER','ORIGIN_AIRPORT_V',\"DESTINATION__AIRPORT_V\",'ARRIVAL_DELAY','DEPARTURE_DELAY','DAY','MONTH','SCHEDULED_ARRIVAL']]\n",
    "flights.dropna(inplace =True)\n",
    "flights = flights.reset_index()\n",
    "# flights = flights[['AIRLINE','ORGIN_AIRPORT_V',\"DESTINATION__AIRPORT_V\",'ARRIVAL_DELAY','DAY_OF_WEEK','DEPARTURE_DELAY','DAY','MONTH','SCHEDULED_ARRIVAL']]\n",
    "flights.head()"
   ]
  },
  {
   "cell_type": "code",
   "execution_count": 4,
   "metadata": {},
   "outputs": [
    {
     "data": {
      "text/plain": [
       "Index(['index', 'AIRLINE', 'TAIL_NUMBER', 'ORIGIN_AIRPORT_V',\n",
       "       'DESTINATION__AIRPORT_V', 'ARRIVAL_DELAY', 'DEPARTURE_DELAY', 'DAY',\n",
       "       'MONTH', 'SCHEDULED_ARRIVAL'],\n",
       "      dtype='object')"
      ]
     },
     "execution_count": 4,
     "metadata": {},
     "output_type": "execute_result"
    }
   ],
   "source": [
    "flights.columns"
   ]
  },
  {
   "cell_type": "code",
   "execution_count": 5,
   "metadata": {},
   "outputs": [],
   "source": [
    "# '10268' in flights.DESTINATION_AIRPORT.unique()"
   ]
  },
  {
   "cell_type": "code",
   "execution_count": 6,
   "metadata": {},
   "outputs": [],
   "source": [
    "# len(flights.DESTINATION_AIRPORT.unique())"
   ]
  },
  {
   "cell_type": "code",
   "execution_count": 7,
   "metadata": {},
   "outputs": [],
   "source": [
    "# a = flights.ORIGIN_AIRPORT.unique()\n",
    "# print(len(a))\n",
    "# for i in flights.DESTINATION_AIRPORT.unique():\n",
    "#     if i not in a:\n",
    "#         a = np.append(a,i)\n",
    "        \n",
    "# len(a)"
   ]
  },
  {
   "cell_type": "code",
   "execution_count": null,
   "metadata": {},
   "outputs": [],
   "source": []
  },
  {
   "cell_type": "code",
   "execution_count": 8,
   "metadata": {},
   "outputs": [],
   "source": [
    "class Generator(data.Dataset):\n",
    "    def __init__(self,indexes):\n",
    "        self.indexes = indexes\n",
    "    def __len__(self):\n",
    "        return len(self.indexes)\n",
    "    def __getitem__(self,index):\n",
    "        index = self.indexes[index]\n",
    "        y = flights['ARRIVAL_DELAY'][index]\n",
    "        y = torch.tensor(y,dtype=torch.float)\n",
    "#         avg_index = self.flights[(flights['AIRLINE'] == self.flights['AIRLINE'][index])&(flights['ORGIN_AIRPORT_V'] == self.flights['ORGIN_AIRPORT_V'][index])&(flights['DESTINATION__AIRPORT_V'] == self.flights['DESTINATION__AIRPORT_V'][index])]['ARRIVAL_DELAY'][:index].to_list()\n",
    "#         avg_index_index = sum(avg_index)/len(avg_index) if len(avg_index) > 0 else 0\n",
    "        x = {\n",
    "            'TAIL_NUMBER':torch.tensor(flights['TAIL_NUMBER'][index],dtype=torch.float),\n",
    "            'AIRLINE': torch.tensor(flights['AIRLINE'][index],dtype=torch.long),\n",
    "            'DAY': torch.tensor(flights['DAY'][index],dtype=torch.float),\n",
    "            'MONTH': torch.tensor(flights['MONTH'][index],dtype=torch.float),\n",
    "            'SCHEDULED_ARRIVAL': torch.tensor(flights['SCHEDULED_ARRIVAL'][index],dtype=torch.float),\n",
    "            'ORIGIN_AIRPORT': torch.tensor(flights['ORIGIN_AIRPORT_V'][index],dtype=torch.long),\n",
    "            'DESTINATION__AIRPORT': torch.tensor(flights['DESTINATION__AIRPORT_V'][index],dtype=torch.long),\n",
    "#             'AVERAGE_DELAY': torch.tensor(avg_index,dtype=torch.float)\n",
    "        }\n",
    "        return x,y"
   ]
  },
  {
   "cell_type": "code",
   "execution_count": 9,
   "metadata": {},
   "outputs": [
    {
     "data": {
      "text/plain": [
       "744347"
      ]
     },
     "execution_count": 9,
     "metadata": {},
     "output_type": "execute_result"
    }
   ],
   "source": [
    "len(flights)"
   ]
  },
  {
   "cell_type": "code",
   "execution_count": 10,
   "metadata": {},
   "outputs": [],
   "source": [
    "seed(1234)\n",
    "indexes = list(flights.index)\n",
    "shuffle(indexes)\n",
    "train_indexes = indexes[:600000]\n",
    "validation_indexes = indexes[600000:650000]\n",
    "test_indexes = indexes[650000:]\n",
    "# train_index = sample(indexes,round(len(indexes)*0.75))"
   ]
  },
  {
   "cell_type": "code",
   "execution_count": 11,
   "metadata": {},
   "outputs": [],
   "source": [
    "params = {'batch_size': 256,\n",
    "          'shuffle': False,\n",
    "          'num_workers': 6}"
   ]
  },
  {
   "cell_type": "code",
   "execution_count": 12,
   "metadata": {},
   "outputs": [],
   "source": [
    "# train = flights.loc[train_index,:]"
   ]
  },
  {
   "cell_type": "code",
   "execution_count": 13,
   "metadata": {},
   "outputs": [],
   "source": [
    "train_gen = Generator(train_indexes)\n",
    "train_loader = data.DataLoader(train_gen,**params)\n",
    "validatation_gen = Generator(validation_indexes)\n",
    "validatation_loader = data.DataLoader(validatation_gen,**params)"
   ]
  },
  {
   "cell_type": "code",
   "execution_count": 14,
   "metadata": {},
   "outputs": [
    {
     "data": {
      "text/plain": [
       "({'TAIL_NUMBER': tensor(457.),\n",
       "  'AIRLINE': tensor(3),\n",
       "  'DAY': tensor([0., 0., 0., 0., 0., 0., 0., 0., 0., 1., 0., 0., 0., 0., 0., 0., 0., 0.,\n",
       "          0., 0., 0., 0., 0., 0., 0., 0., 0., 0., 0., 0., 0.]),\n",
       "  'MONTH': tensor([0., 0., 0., 0., 1., 0., 0., 0., 0., 0., 0., 0.]),\n",
       "  'SCHEDULED_ARRIVAL': tensor(1830.),\n",
       "  'ORIGIN_AIRPORT': tensor(10),\n",
       "  'DESTINATION__AIRPORT': tensor(67)},\n",
       " tensor(16.))"
      ]
     },
     "execution_count": 14,
     "metadata": {},
     "output_type": "execute_result"
    }
   ],
   "source": [
    "train_gen.__getitem__(0)"
   ]
  },
  {
   "cell_type": "code",
   "execution_count": 15,
   "metadata": {},
   "outputs": [],
   "source": [
    "# train_gen.flights['ARRIVAL_DELAY'][0]"
   ]
  },
  {
   "cell_type": "code",
   "execution_count": 16,
   "metadata": {},
   "outputs": [
    {
     "data": {
      "text/plain": [
       "627"
      ]
     },
     "execution_count": 16,
     "metadata": {},
     "output_type": "execute_result"
    }
   ],
   "source": [
    "len(airports.keys())"
   ]
  },
  {
   "cell_type": "code",
   "execution_count": 17,
   "metadata": {},
   "outputs": [
    {
     "data": {
      "text/plain": [
       "625"
      ]
     },
     "execution_count": 17,
     "metadata": {},
     "output_type": "execute_result"
    }
   ],
   "source": [
    "flights.DESTINATION__AIRPORT_V.nunique()"
   ]
  },
  {
   "cell_type": "code",
   "execution_count": 18,
   "metadata": {},
   "outputs": [
    {
     "data": {
      "text/plain": [
       "Index(['index', 'AIRLINE', 'TAIL_NUMBER', 'ORIGIN_AIRPORT_V',\n",
       "       'DESTINATION__AIRPORT_V', 'ARRIVAL_DELAY', 'DEPARTURE_DELAY', 'DAY',\n",
       "       'MONTH', 'SCHEDULED_ARRIVAL'],\n",
       "      dtype='object')"
      ]
     },
     "execution_count": 18,
     "metadata": {},
     "output_type": "execute_result"
    }
   ],
   "source": [
    "flights.columns"
   ]
  },
  {
   "cell_type": "code",
   "execution_count": 19,
   "metadata": {},
   "outputs": [],
   "source": [
    "class Model(nn.Module):\n",
    "    def __init__(self,drop=0.25,airport_len=len(airports.keys())+1,airline_len=len(airlines.keys())):\n",
    "        super(Model,self).__init__()\n",
    "        self.input = 45+30+30+15#+1\n",
    "        self.drop_p = drop\n",
    "        self.airport = nn.Embedding(airport_len,30)\n",
    "        self.airline = nn.Embedding(airline_len,15)\n",
    "        self.layer1 = nn.Linear(self.input,1024)\n",
    "        self.layer2 = nn.Linear(1024,1024)\n",
    "        self.layer3 = nn.Linear(1024,1024)\n",
    "        self.layer4 = nn.Linear(1024,1)\n",
    "        self.dropout = nn.Dropout(p=drop)\n",
    "    \n",
    "    def forward(self,x):\n",
    "        if torch.cuda.is_available():\n",
    "            x['TAIL_NUMBER'] = x['TAIL_NUMBER'].cuda()\n",
    "            x['AIRLINE'] = x['AIRLINE'].cuda()\n",
    "            x['SCHEDULED_ARRIVAL'] = x['SCHEDULED_ARRIVAL'].cuda()\n",
    "            x['ORIGIN_AIRPORT'] = x['ORIGIN_AIRPORT'].cuda()\n",
    "            x['DESTINATION__AIRPORT'] = x['DESTINATION__AIRPORT'].cuda()\n",
    "            x['DAY'] = x['DAY'].cuda()\n",
    "            x['MONTH'] = x['MONTH'].cuda()\n",
    "        batch_size = x['DAY'].shape[0]\n",
    "        x['TAIL_NUMBER'] = x['TAIL_NUMBER'].reshape(batch_size,-1)\n",
    "#         x['AVERAGE_DELAY'] = x['AVERAGE_DELAY'].reshape(batch_size,-1)\n",
    "        x['AIRLINE'] = self.airline(x['AIRLINE']) \n",
    "        x['AIRLINE'] = x['AIRLINE'].reshape(batch_size,-1)\n",
    "        x['SCHEDULED_ARRIVAL'] = x['SCHEDULED_ARRIVAL'].reshape(batch_size,-1)\n",
    "        x['ORIGIN_AIRPORT'] = self.airport(x['ORIGIN_AIRPORT'])\n",
    "        x['DESTINATION__AIRPORT'] = self.airport(x['DESTINATION__AIRPORT'])\n",
    "        x['ORIGIN_AIRPORT'] = x['ORIGIN_AIRPORT'].reshape(batch_size,-1)\n",
    "        x['DESTINATION__AIRPORT'] = x['DESTINATION__AIRPORT'].reshape(batch_size,-1)\n",
    "        inp = torch.cat((x['DESTINATION__AIRPORT'],x['ORIGIN_AIRPORT'],x['SCHEDULED_ARRIVAL'],x['AIRLINE'],x['TAIL_NUMBER'],\n",
    "                        x['DAY'],x['MONTH']),dim=1)\n",
    "#         print(inp.shape)\n",
    "        out = self.layer1(inp)\n",
    "#         print(out.shape)\n",
    "        out = torch.relu(out)\n",
    "#         print(out.shape)\n",
    "        out = self.dropout(out)\n",
    "        out = self.layer2(out)\n",
    "        out = torch.relu(out)\n",
    "        out = self.dropout(out)\n",
    "#         out = F.dropout(F.relu(out),p=self.drop_p)\n",
    "        out = self.layer3(out)\n",
    "        out = torch.relu(out)\n",
    "        out = self.dropout(out)\n",
    "#         out = F.dropout(F.relu(out),p=self.drop_p)\n",
    "        out = self.layer4(out)\n",
    "        out = out.flatten()\n",
    "        return out"
   ]
  },
  {
   "cell_type": "code",
   "execution_count": 20,
   "metadata": {},
   "outputs": [],
   "source": [
    "model = Model()\n",
    "lr = 0.0001\n",
    "criterian = nn.SmoothL1Loss() \n",
    "optimizer = optim.Adam(model.parameters(),lr =lr)"
   ]
  },
  {
   "cell_type": "code",
   "execution_count": 21,
   "metadata": {},
   "outputs": [
    {
     "name": "stdout",
     "output_type": "stream",
     "text": [
      "0 loss = 11.091658576356673 and validation loss = 12.711618910030444\n",
      "1 loss = 10.796484482166303 and validation loss = 12.55972891437764\n",
      "2 loss = 10.373108798733343 and validation loss = 12.199917910050372\n",
      "3 loss = 10.138260925589162 and validation loss = 11.468391491442311\n",
      "4 loss = 10.030290351385956 and validation loss = 11.197020924821192\n",
      "5 loss = 9.9585501346165 and validation loss = 10.949489890312663\n",
      "6 loss = 9.905977290644987 and validation loss = 10.9036117135262\n",
      "7 loss = 9.868909358164556 and validation loss = 10.947740335853732\n",
      "8 loss = 9.84914677094274 and validation loss = 10.938421750555234\n",
      "9 loss = 9.83712900742736 and validation loss = 10.900386031793088\n",
      "10 loss = 9.823949481846936 and validation loss = 11.007087644265622\n",
      "11 loss = 9.81599018354058 and validation loss = 10.98270516979451\n",
      "12 loss = 9.805630698138943 and validation loss = 10.926818268639702\n",
      "13 loss = 9.797151847504106 and validation loss = 10.732805714315298\n",
      "14 loss = 9.79141088842125 and validation loss = 10.779612463347766\n",
      "15 loss = 9.782083985748551 and validation loss = 10.814547694459254\n",
      "16 loss = 9.781235477216415 and validation loss = 10.687144420584854\n",
      "17 loss = 9.775917139883335 and validation loss = 10.726772911694585\n",
      "18 loss = 9.773079051499481 and validation loss = 10.640652028881775\n",
      "19 loss = 9.767315911758475 and validation loss = 10.660125119345528\n",
      "20 loss = 9.764293798407596 and validation loss = 10.562251952229714\n",
      "21 loss = 9.758852270682924 and validation loss = 10.446910313197545\n",
      "22 loss = 9.754942853906456 and validation loss = 10.412388173901306\n",
      "23 loss = 9.747911208318769 and validation loss = 10.274241890226092\n",
      "24 loss = 9.744966989491173 and validation loss = 10.202960744196055\n",
      "25 loss = 9.741323015185346 and validation loss = 10.219412263558835\n",
      "26 loss = 9.738263541521066 and validation loss = 10.094489949090141\n",
      "27 loss = 9.735109216117207 and validation loss = 10.069601054094276\n",
      "28 loss = 9.732418414065455 and validation loss = 10.122101861603406\n",
      "29 loss = 9.729449637107068 and validation loss = 10.079348447371503\n"
     ]
    }
   ],
   "source": [
    "epoch = 30\n",
    "if torch.cuda.is_available():\n",
    "    model.cuda()\n",
    "for e in range(epoch):\n",
    "    run_loss =0\n",
    "    count = 0\n",
    "    model.train()\n",
    "    for x,y in train_loader:\n",
    "        optimizer.zero_grad()\n",
    "#         torch.cuda.empty_cache()\n",
    "#       moving to cuda\n",
    "        if torch.cuda.is_available():\n",
    "            y = y.cuda()\n",
    "#         y = y.reshape(y.shape[0],-1)\n",
    "        out = model(x)\n",
    "        loss = criterian(out,y)\n",
    "        run_loss += loss.item()\n",
    "        loss.backward()\n",
    "        optimizer.step()\n",
    "        count +=1\n",
    "        torch.cuda.empty_cache()\n",
    "        del x\n",
    "        del y\n",
    "    else:\n",
    "        run_loss = run_loss/count\n",
    "        model.eval()\n",
    "        val_loss =0 \n",
    "        loss = 0\n",
    "        c =0 \n",
    "        for x,y in validatation_loader:\n",
    "            if torch.cuda.is_available():\n",
    "                y = y.cuda()\n",
    "#             y = y.reshape(y.shape[0],-1)\n",
    "            out = model(x)\n",
    "            loss = criterian(out,y)\n",
    "            val_loss += loss.item()\n",
    "            c +=1\n",
    "        val_loss = val_loss/c\n",
    "        print('{} loss = {} and validation loss = {}'.format(e,run_loss,val_loss))"
   ]
  },
  {
   "cell_type": "code",
   "execution_count": 22,
   "metadata": {},
   "outputs": [
    {
     "data": {
      "text/plain": [
       "True"
      ]
     },
     "execution_count": 22,
     "metadata": {},
     "output_type": "execute_result"
    }
   ],
   "source": [
    "torch.cuda.is_available()"
   ]
  },
  {
   "cell_type": "code",
   "execution_count": 23,
   "metadata": {},
   "outputs": [
    {
     "data": {
      "text/plain": [
       "744347"
      ]
     },
     "execution_count": 23,
     "metadata": {},
     "output_type": "execute_result"
    }
   ],
   "source": [
    "len(flights)"
   ]
  },
  {
   "cell_type": "code",
   "execution_count": 24,
   "metadata": {},
   "outputs": [
    {
     "data": {
      "text/plain": [
       "726.9013671875"
      ]
     },
     "execution_count": 24,
     "metadata": {},
     "output_type": "execute_result"
    }
   ],
   "source": [
    "len(flights)/1024"
   ]
  },
  {
   "cell_type": "code",
   "execution_count": 25,
   "metadata": {},
   "outputs": [],
   "source": [
    "test_gen = Generator(test_indexes)\n",
    "test_loader = data.DataLoader(test_gen,**params)"
   ]
  },
  {
   "cell_type": "code",
   "execution_count": 26,
   "metadata": {},
   "outputs": [
    {
     "name": "stdout",
     "output_type": "stream",
     "text": [
      "tensor([24.3524, 24.8214, 25.3912, 26.2980, 25.5124, 26.2657, 26.9563, 24.5437,\n",
      "        24.4749, 24.6806, 25.0022, 25.6633, 23.3554, 25.9532, 26.1658, 24.6174,\n",
      "        23.1639, 25.3550, 23.7485, 24.7047, 23.5513, 24.4999, 24.3508, 23.5976,\n",
      "        25.7024, 26.3938, 24.1144, 24.6919, 25.3902, 24.7845, 22.0899, 22.0481,\n",
      "        24.6121, 24.1167, 25.4296, 25.1309, 25.1832, 25.2505, 25.6115, 25.1099,\n",
      "        23.4570, 24.6355, 25.0367, 24.2648, 24.9083, 26.1645, 22.0093, 24.9303,\n",
      "        24.7508, 24.6097, 24.0396, 24.7168, 23.5333, 25.7687, 24.9598, 24.2165,\n",
      "        24.7652, 26.9681, 25.5013, 26.8429, 25.4674, 26.4425, 24.4637, 25.2804,\n",
      "        23.9779, 26.1427, 25.0803, 25.1812, 25.8170, 24.2220, 24.2149, 25.6366,\n",
      "        25.2094, 25.9936, 25.1883, 25.2137, 25.3795, 23.5727, 24.3712, 25.4681,\n",
      "        26.0440, 25.6656, 24.5508, 24.8185, 24.6940, 26.0496, 24.0744, 25.7086,\n",
      "        23.6399, 26.3130, 26.0699, 26.0104, 26.6724, 27.0148, 24.8306, 25.7012,\n",
      "        25.6456, 25.0686, 24.4065, 23.7639, 26.4901, 25.7952, 24.7225, 25.4802,\n",
      "        26.0152, 23.1645, 25.0125, 26.4338, 23.7118, 25.7480, 24.6376, 22.0840,\n",
      "        25.9672, 25.8126, 26.9801, 24.3737, 23.5317, 25.1641, 26.1396, 23.9740,\n",
      "        24.1311, 24.2936, 25.2775, 24.5052, 25.3405, 25.5511, 26.5511, 25.6518,\n",
      "        23.4114, 24.3359, 23.7252, 25.6375, 25.6469, 23.3923, 24.1059, 23.6990,\n",
      "        25.4096, 27.1623, 23.4594, 25.0072, 25.6558, 23.7914, 26.1050, 24.8964,\n",
      "        23.8233, 26.0529, 24.6654, 24.6976, 23.5080, 26.4580, 24.7418, 23.5835,\n",
      "        24.8717, 27.0085, 26.6067, 24.3710, 27.2055, 23.7458, 26.2430, 26.0530,\n",
      "        26.0401, 26.1413, 25.2988, 25.4470, 25.4190, 24.2293, 24.9821, 24.4080,\n",
      "        24.0453, 23.6078, 25.4663, 24.0693, 25.1603, 23.7458, 27.2239, 25.5474,\n",
      "        25.6639, 24.2802, 25.5227, 24.4112, 27.0082, 26.2404, 26.5496, 25.2049,\n",
      "        24.4744, 25.1637, 25.7890, 23.1843, 22.5270, 22.2941, 25.0550, 26.1079,\n",
      "        24.2354, 26.1598, 22.8365, 24.9900, 25.1189, 25.2418, 25.2150, 26.2996,\n",
      "        26.4867, 24.4612, 24.0527, 24.7707, 25.1325, 24.2602, 25.9333, 25.4154,\n",
      "        26.0281, 24.7414, 22.7597, 25.4808, 25.7166, 25.8730, 24.1873, 24.6813,\n",
      "        27.2683, 25.7114, 27.1124, 24.4434, 23.3159, 25.5584, 25.6054, 24.6817,\n",
      "        23.5427, 25.1660, 23.4319, 26.0256, 25.5253, 23.9417, 26.2480, 25.7933,\n",
      "        23.6472, 25.5237, 24.2282, 25.7580, 25.6613, 26.1901, 25.1088, 25.0906,\n",
      "        24.1378, 24.7952, 25.2590, 26.3530, 25.9016, 24.0477, 23.9459, 26.9285,\n",
      "        25.0349, 24.7149, 24.4798, 25.9034, 26.6193, 24.6271, 23.9040, 23.7625],\n",
      "       device='cuda:0', grad_fn=<ViewBackward>) is out and actual tensor([40., 25., 22., 55., 17., 16., 55., 30., 38., 17., 33., 47., 17., 21.,\n",
      "        26., 45., 54., 23., 22., 39., 15., 34., 17., 45., 22., 29., 19., 16.,\n",
      "        22., 15., 15., 15., 18., 32., 17., 34., 18., 51., 54., 58., 43., 16.,\n",
      "        20., 56., 24., 23., 52., 23., 17., 36., 19., 21., 17., 23., 24., 48.,\n",
      "        54., 43., 15., 40., 15., 17., 40., 31., 45., 20., 28., 33., 35., 19.,\n",
      "        24., 15., 22., 23., 30., 30., 43., 34., 18., 19., 26., 33., 18., 24.,\n",
      "        40., 21., 15., 18., 19., 28., 31., 57., 23., 33., 18., 40., 28., 28.,\n",
      "        29., 16., 18., 27., 40., 20., 58., 19., 15., 45., 42., 16., 16., 56.,\n",
      "        58., 24., 20., 58., 32., 18., 16., 32., 58., 19., 19., 17., 50., 19.,\n",
      "        15., 48., 18., 45., 46., 15., 23., 15., 19., 19., 30., 33., 23., 54.,\n",
      "        21., 18., 19., 38., 20., 43., 15., 56., 34., 41., 22., 33., 51., 29.,\n",
      "        53., 51., 38., 20., 57., 24., 46., 25., 53., 22., 20., 15., 58., 50.,\n",
      "        31., 29., 60., 46., 21., 18., 26., 24., 59., 18., 25., 57., 32., 40.,\n",
      "        34., 21., 19., 30., 16., 26., 17., 16., 22., 27., 34., 18., 44., 41.,\n",
      "        33., 24., 37., 52., 52., 15., 54., 29., 35., 15., 33., 24., 24., 20.,\n",
      "        51., 21., 50., 19., 16., 29., 43., 42., 42., 44., 48., 30., 15., 21.,\n",
      "        33., 32., 35., 20., 42., 23., 49., 58., 40., 26., 28., 21., 24., 29.,\n",
      "        42., 25., 16., 15., 46., 49., 30., 45., 37., 25., 57., 26., 33., 56.,\n",
      "        15., 21., 36., 29.])\n"
     ]
    }
   ],
   "source": [
    "x,y = next(iter(test_loader))\n",
    "model.eval()\n",
    "# if torch.cuda.is_available():\n",
    "#             y = y.cuda()\n",
    "out = model(x)\n",
    "print('{} is out and actual {}'.format(out,y))"
   ]
  },
  {
   "cell_type": "code",
   "execution_count": 27,
   "metadata": {},
   "outputs": [
    {
     "data": {
      "text/plain": [
       "torch.Size([256])"
      ]
     },
     "execution_count": 27,
     "metadata": {},
     "output_type": "execute_result"
    }
   ],
   "source": [
    "out.shape"
   ]
  },
  {
   "cell_type": "code",
   "execution_count": 28,
   "metadata": {},
   "outputs": [
    {
     "data": {
      "text/plain": [
       "torch.Size([256])"
      ]
     },
     "execution_count": 28,
     "metadata": {},
     "output_type": "execute_result"
    }
   ],
   "source": [
    "out = out.flatten()\n",
    "out.shape"
   ]
  },
  {
   "cell_type": "code",
   "execution_count": 29,
   "metadata": {},
   "outputs": [
    {
     "name": "stdout",
     "output_type": "stream",
     "text": [
      "24.35236167907715 is out and actual 40.0\n",
      "24.821392059326172 is out and actual 25.0\n",
      "25.391191482543945 is out and actual 22.0\n",
      "26.297962188720703 is out and actual 55.0\n",
      "25.512357711791992 is out and actual 17.0\n",
      "26.26569938659668 is out and actual 16.0\n",
      "26.95625114440918 is out and actual 55.0\n",
      "24.543703079223633 is out and actual 30.0\n",
      "24.474891662597656 is out and actual 38.0\n",
      "24.680578231811523 is out and actual 17.0\n",
      "25.002206802368164 is out and actual 33.0\n",
      "25.663305282592773 is out and actual 47.0\n",
      "23.35542106628418 is out and actual 17.0\n",
      "25.953195571899414 is out and actual 21.0\n",
      "26.165786743164062 is out and actual 26.0\n",
      "24.61738395690918 is out and actual 45.0\n",
      "23.163930892944336 is out and actual 54.0\n",
      "25.354991912841797 is out and actual 23.0\n",
      "23.748519897460938 is out and actual 22.0\n",
      "24.70465850830078 is out and actual 39.0\n",
      "23.5512638092041 is out and actual 15.0\n",
      "24.499895095825195 is out and actual 34.0\n",
      "24.35078239440918 is out and actual 17.0\n",
      "23.59764289855957 is out and actual 45.0\n",
      "25.702402114868164 is out and actual 22.0\n",
      "26.393783569335938 is out and actual 29.0\n",
      "24.114383697509766 is out and actual 19.0\n",
      "24.69190216064453 is out and actual 16.0\n",
      "25.39017677307129 is out and actual 22.0\n",
      "24.78448486328125 is out and actual 15.0\n",
      "22.08987808227539 is out and actual 15.0\n",
      "22.04810905456543 is out and actual 15.0\n",
      "24.612144470214844 is out and actual 18.0\n",
      "24.116662979125977 is out and actual 32.0\n",
      "25.42957878112793 is out and actual 17.0\n",
      "25.130905151367188 is out and actual 34.0\n",
      "25.183238983154297 is out and actual 18.0\n",
      "25.250490188598633 is out and actual 51.0\n",
      "25.61145782470703 is out and actual 54.0\n",
      "25.109893798828125 is out and actual 58.0\n",
      "23.456974029541016 is out and actual 43.0\n",
      "24.63547134399414 is out and actual 16.0\n",
      "25.03666877746582 is out and actual 20.0\n",
      "24.264787673950195 is out and actual 56.0\n",
      "24.90827751159668 is out and actual 24.0\n",
      "26.164535522460938 is out and actual 23.0\n",
      "22.00930404663086 is out and actual 52.0\n",
      "24.930330276489258 is out and actual 23.0\n",
      "24.750823974609375 is out and actual 17.0\n",
      "24.60972785949707 is out and actual 36.0\n",
      "24.039609909057617 is out and actual 19.0\n",
      "24.716779708862305 is out and actual 21.0\n",
      "23.533288955688477 is out and actual 17.0\n",
      "25.768747329711914 is out and actual 23.0\n",
      "24.959762573242188 is out and actual 24.0\n",
      "24.216459274291992 is out and actual 48.0\n",
      "24.765199661254883 is out and actual 54.0\n",
      "26.9681396484375 is out and actual 43.0\n",
      "25.501293182373047 is out and actual 15.0\n",
      "26.842884063720703 is out and actual 40.0\n",
      "25.467439651489258 is out and actual 15.0\n",
      "26.44247055053711 is out and actual 17.0\n",
      "24.46368980407715 is out and actual 40.0\n",
      "25.28036117553711 is out and actual 31.0\n",
      "23.977924346923828 is out and actual 45.0\n",
      "26.142736434936523 is out and actual 20.0\n",
      "25.08026123046875 is out and actual 28.0\n",
      "25.18120002746582 is out and actual 33.0\n",
      "25.817007064819336 is out and actual 35.0\n",
      "24.221975326538086 is out and actual 19.0\n",
      "24.214916229248047 is out and actual 24.0\n",
      "25.636606216430664 is out and actual 15.0\n",
      "25.209379196166992 is out and actual 22.0\n",
      "25.99356460571289 is out and actual 23.0\n",
      "25.188310623168945 is out and actual 30.0\n",
      "25.213720321655273 is out and actual 30.0\n",
      "25.37946891784668 is out and actual 43.0\n",
      "23.572734832763672 is out and actual 34.0\n",
      "24.371246337890625 is out and actual 18.0\n",
      "25.46805763244629 is out and actual 19.0\n",
      "26.044017791748047 is out and actual 26.0\n",
      "25.66560173034668 is out and actual 33.0\n",
      "24.550800323486328 is out and actual 18.0\n",
      "24.818477630615234 is out and actual 24.0\n",
      "24.69399070739746 is out and actual 40.0\n",
      "26.049585342407227 is out and actual 21.0\n",
      "24.07435417175293 is out and actual 15.0\n",
      "25.70855140686035 is out and actual 18.0\n",
      "23.639921188354492 is out and actual 19.0\n",
      "26.312999725341797 is out and actual 28.0\n",
      "26.069913864135742 is out and actual 31.0\n",
      "26.010408401489258 is out and actual 57.0\n",
      "26.672449111938477 is out and actual 23.0\n",
      "27.01479721069336 is out and actual 33.0\n",
      "24.83060646057129 is out and actual 18.0\n",
      "25.701202392578125 is out and actual 40.0\n",
      "25.645572662353516 is out and actual 28.0\n",
      "25.068592071533203 is out and actual 28.0\n",
      "24.406517028808594 is out and actual 29.0\n",
      "23.763874053955078 is out and actual 16.0\n",
      "26.490068435668945 is out and actual 18.0\n",
      "25.79518699645996 is out and actual 27.0\n",
      "24.72249412536621 is out and actual 40.0\n",
      "25.480159759521484 is out and actual 20.0\n",
      "26.015235900878906 is out and actual 58.0\n",
      "23.164541244506836 is out and actual 19.0\n",
      "25.01253890991211 is out and actual 15.0\n",
      "26.433805465698242 is out and actual 45.0\n",
      "23.7117862701416 is out and actual 42.0\n",
      "25.748031616210938 is out and actual 16.0\n",
      "24.637636184692383 is out and actual 16.0\n",
      "22.084035873413086 is out and actual 56.0\n",
      "25.96724510192871 is out and actual 58.0\n",
      "25.81263542175293 is out and actual 24.0\n",
      "26.980112075805664 is out and actual 20.0\n",
      "24.373695373535156 is out and actual 58.0\n",
      "23.53167724609375 is out and actual 32.0\n",
      "25.164077758789062 is out and actual 18.0\n",
      "26.139589309692383 is out and actual 16.0\n",
      "23.97402000427246 is out and actual 32.0\n",
      "24.13113021850586 is out and actual 58.0\n",
      "24.293582916259766 is out and actual 19.0\n",
      "25.27745819091797 is out and actual 19.0\n",
      "24.505178451538086 is out and actual 17.0\n",
      "25.340478897094727 is out and actual 50.0\n",
      "25.551057815551758 is out and actual 19.0\n",
      "26.551057815551758 is out and actual 15.0\n",
      "25.651805877685547 is out and actual 48.0\n",
      "23.41135597229004 is out and actual 18.0\n",
      "24.335941314697266 is out and actual 45.0\n",
      "23.725187301635742 is out and actual 46.0\n",
      "25.637540817260742 is out and actual 15.0\n",
      "25.646942138671875 is out and actual 23.0\n",
      "23.392311096191406 is out and actual 15.0\n",
      "24.10594367980957 is out and actual 19.0\n",
      "23.69902992248535 is out and actual 19.0\n",
      "25.40955352783203 is out and actual 30.0\n",
      "27.162302017211914 is out and actual 33.0\n",
      "23.459421157836914 is out and actual 23.0\n",
      "25.007192611694336 is out and actual 54.0\n",
      "25.655803680419922 is out and actual 21.0\n",
      "23.7913875579834 is out and actual 18.0\n",
      "26.10504913330078 is out and actual 19.0\n",
      "24.896438598632812 is out and actual 38.0\n",
      "23.82329750061035 is out and actual 20.0\n",
      "26.05286979675293 is out and actual 43.0\n",
      "24.665359497070312 is out and actual 15.0\n",
      "24.697629928588867 is out and actual 56.0\n",
      "23.507993698120117 is out and actual 34.0\n",
      "26.458044052124023 is out and actual 41.0\n",
      "24.741811752319336 is out and actual 22.0\n",
      "23.583520889282227 is out and actual 33.0\n",
      "24.871719360351562 is out and actual 51.0\n",
      "27.008535385131836 is out and actual 29.0\n",
      "26.606740951538086 is out and actual 53.0\n",
      "24.371036529541016 is out and actual 51.0\n",
      "27.205535888671875 is out and actual 38.0\n",
      "23.745838165283203 is out and actual 20.0\n",
      "26.24298095703125 is out and actual 57.0\n",
      "26.052997589111328 is out and actual 24.0\n",
      "26.040071487426758 is out and actual 46.0\n",
      "26.141286849975586 is out and actual 25.0\n",
      "25.298839569091797 is out and actual 53.0\n",
      "25.447004318237305 is out and actual 22.0\n",
      "25.419021606445312 is out and actual 20.0\n",
      "24.229257583618164 is out and actual 15.0\n",
      "24.982084274291992 is out and actual 58.0\n",
      "24.40804100036621 is out and actual 50.0\n",
      "24.045331954956055 is out and actual 31.0\n",
      "23.607818603515625 is out and actual 29.0\n",
      "25.4663028717041 is out and actual 60.0\n",
      "24.0693359375 is out and actual 46.0\n",
      "25.16028594970703 is out and actual 21.0\n",
      "23.74583625793457 is out and actual 18.0\n",
      "27.223859786987305 is out and actual 26.0\n",
      "25.54741096496582 is out and actual 24.0\n",
      "25.663894653320312 is out and actual 59.0\n",
      "24.280168533325195 is out and actual 18.0\n",
      "25.522747039794922 is out and actual 25.0\n",
      "24.411191940307617 is out and actual 57.0\n",
      "27.008193969726562 is out and actual 32.0\n",
      "26.240442276000977 is out and actual 40.0\n",
      "26.54962158203125 is out and actual 34.0\n",
      "25.204919815063477 is out and actual 21.0\n",
      "24.474393844604492 is out and actual 19.0\n",
      "25.163745880126953 is out and actual 30.0\n",
      "25.78900146484375 is out and actual 16.0\n",
      "23.184282302856445 is out and actual 26.0\n",
      "22.5269832611084 is out and actual 17.0\n",
      "22.294103622436523 is out and actual 16.0\n",
      "25.055034637451172 is out and actual 22.0\n",
      "26.107938766479492 is out and actual 27.0\n",
      "24.2353572845459 is out and actual 34.0\n",
      "26.159822463989258 is out and actual 18.0\n",
      "22.836458206176758 is out and actual 44.0\n",
      "24.990018844604492 is out and actual 41.0\n",
      "25.11887550354004 is out and actual 33.0\n",
      "25.241836547851562 is out and actual 24.0\n",
      "25.21497917175293 is out and actual 37.0\n",
      "26.299592971801758 is out and actual 52.0\n",
      "26.486736297607422 is out and actual 52.0\n",
      "24.461158752441406 is out and actual 15.0\n",
      "24.052734375 is out and actual 54.0\n",
      "24.770689010620117 is out and actual 29.0\n",
      "25.13253402709961 is out and actual 35.0\n",
      "24.260164260864258 is out and actual 15.0\n",
      "25.933284759521484 is out and actual 33.0\n",
      "25.415393829345703 is out and actual 24.0\n",
      "26.02814483642578 is out and actual 24.0\n",
      "24.74138832092285 is out and actual 20.0\n",
      "22.759681701660156 is out and actual 51.0\n",
      "25.48084831237793 is out and actual 21.0\n",
      "25.716583251953125 is out and actual 50.0\n",
      "25.873023986816406 is out and actual 19.0\n",
      "24.18731689453125 is out and actual 16.0\n",
      "24.681337356567383 is out and actual 29.0\n",
      "27.268264770507812 is out and actual 43.0\n",
      "25.711437225341797 is out and actual 42.0\n",
      "27.112363815307617 is out and actual 42.0\n",
      "24.44342613220215 is out and actual 44.0\n",
      "23.31591796875 is out and actual 48.0\n",
      "25.558425903320312 is out and actual 30.0\n",
      "25.60539436340332 is out and actual 15.0\n",
      "24.68170928955078 is out and actual 21.0\n",
      "23.542678833007812 is out and actual 33.0\n",
      "25.166013717651367 is out and actual 32.0\n",
      "23.431882858276367 is out and actual 35.0\n",
      "26.025598526000977 is out and actual 20.0\n",
      "25.525293350219727 is out and actual 42.0\n",
      "23.941680908203125 is out and actual 23.0\n",
      "26.24801254272461 is out and actual 49.0\n",
      "25.793336868286133 is out and actual 58.0\n",
      "23.647201538085938 is out and actual 40.0\n",
      "25.52373504638672 is out and actual 26.0\n",
      "24.22818374633789 is out and actual 28.0\n",
      "25.75802993774414 is out and actual 21.0\n",
      "25.661319732666016 is out and actual 24.0\n",
      "26.190143585205078 is out and actual 29.0\n",
      "25.10875701904297 is out and actual 42.0\n",
      "25.090639114379883 is out and actual 25.0\n",
      "24.137845993041992 is out and actual 16.0\n",
      "24.7951602935791 is out and actual 15.0\n",
      "25.258970260620117 is out and actual 46.0\n",
      "26.35301399230957 is out and actual 49.0\n",
      "25.901634216308594 is out and actual 30.0\n",
      "24.04767608642578 is out and actual 45.0\n",
      "23.945899963378906 is out and actual 37.0\n",
      "26.92851448059082 is out and actual 25.0\n",
      "25.034881591796875 is out and actual 57.0\n",
      "24.71488380432129 is out and actual 26.0\n",
      "24.47981071472168 is out and actual 33.0\n",
      "25.903356552124023 is out and actual 56.0\n",
      "26.619300842285156 is out and actual 15.0\n",
      "24.627147674560547 is out and actual 21.0\n",
      "23.904022216796875 is out and actual 36.0\n",
      "23.762474060058594 is out and actual 29.0\n"
     ]
    }
   ],
   "source": [
    "for i in range(len(y)):\n",
    "    print('{} is out and actual {}'.format(out[i],y[i]))"
   ]
  },
  {
   "cell_type": "code",
   "execution_count": 30,
   "metadata": {},
   "outputs": [],
   "source": [
    "torch.cuda.empty_cache()"
   ]
  },
  {
   "cell_type": "code",
   "execution_count": 31,
   "metadata": {},
   "outputs": [
    {
     "data": {
      "text/plain": [
       "161"
      ]
     },
     "execution_count": 31,
     "metadata": {},
     "output_type": "execute_result"
    }
   ],
   "source": [
    "c =0 \n",
    "for i in range(len(y)):\n",
    "    if abs(y[i]-out[i]) <10:\n",
    "        c+=1\n",
    "c"
   ]
  },
  {
   "cell_type": "code",
   "execution_count": 32,
   "metadata": {},
   "outputs": [
    {
     "data": {
      "text/plain": [
       "0.62890625"
      ]
     },
     "execution_count": 32,
     "metadata": {},
     "output_type": "execute_result"
    }
   ],
   "source": [
    "c/len(y)"
   ]
  },
  {
   "cell_type": "code",
   "execution_count": 34,
   "metadata": {},
   "outputs": [],
   "source": [
    "c1=0\n",
    "c=0\n",
    "for x,y in test_loader:\n",
    "            if torch.cuda.is_available():\n",
    "                y = y.cuda()\n",
    "#             y = y.reshape(y.shape[0],-1)\n",
    "            out = model(x)\n",
    "            loss = criterian(out,y)\n",
    "            val_loss += loss.item()\n",
    "            for i in range(len(y)):\n",
    "                c+=1\n",
    "                if abs(y[i]-out[i]) <10:\n",
    "                    c1+=1"
   ]
  },
  {
   "cell_type": "code",
   "execution_count": 35,
   "metadata": {},
   "outputs": [
    {
     "data": {
      "text/plain": [
       "0.6444614031182762"
      ]
     },
     "execution_count": 35,
     "metadata": {},
     "output_type": "execute_result"
    }
   ],
   "source": [
    "c1/c"
   ]
  },
  {
   "cell_type": "code",
   "execution_count": 38,
   "metadata": {},
   "outputs": [
    {
     "data": {
      "text/plain": [
       "9.917766816254362"
      ]
     },
     "execution_count": 38,
     "metadata": {},
     "output_type": "execute_result"
    }
   ],
   "source": [
    "val_loss/len(test_loader)"
   ]
  },
  {
   "cell_type": "code",
   "execution_count": null,
   "metadata": {},
   "outputs": [],
   "source": []
  }
 ],
 "metadata": {
  "kernelspec": {
   "display_name": "Python 3",
   "language": "python",
   "name": "python3"
  },
  "language_info": {
   "codemirror_mode": {
    "name": "ipython",
    "version": 3
   },
   "file_extension": ".py",
   "mimetype": "text/x-python",
   "name": "python",
   "nbconvert_exporter": "python",
   "pygments_lexer": "ipython3",
   "version": "3.6.10"
  }
 },
 "nbformat": 4,
 "nbformat_minor": 2
}
